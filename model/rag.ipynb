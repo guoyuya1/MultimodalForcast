{
 "cells": [
  {
   "cell_type": "code",
   "execution_count": 49,
   "metadata": {},
   "outputs": [],
   "source": [
    "from datetime import datetime, timedelta\n",
    "import openai\n",
    "import sys\n",
    "sys.path.append('../..') \n",
    "from openai import OpenAI\n",
    "from tqdm import tqdm\n",
    "import json\n",
    "import os\n",
    "import numpy as np\n",
    "from MultimodalForcast.data_loader.data_loader import process_bitcoin_data, split_series, TimeSeriesDataset, collate_fn"
   ]
  },
  {
   "cell_type": "code",
   "execution_count": 92,
   "metadata": {},
   "outputs": [],
   "source": [
    "def get_unified_prompt(start_date: str, end_date: str) -> str:\n",
    "    return f\"\"\"You are an expert cryptocurrency analyst with access to real-time news and articles search capabilities.\n",
    "    Your task is to analyze Bitcoin price forcast influencers and retrieve relevant news articles or tweets from {start_date} to {end_date}.\n",
    "\n",
    "    Follow these steps:\n",
    "    1. First, identify and learn the key categories that influence Bitcoin price based on your own knowledge and any related articles/analyses you could find\n",
    "      (e.g., regulatory changes, market sentiment, political events, economic factors, related products etc.)\n",
    "\n",
    "    2. For each category:\n",
    "        - Search for ALL news articles relevant to Bitcoin price from {start_date} to {end_date} by looking for articles from various sources (news outlets, crypto media, financial news).\n",
    "        Also you need to consider both positive and negative as well as both short term and long term impacts\n",
    "        - Analyze how these news items might affect Bitcoin price\n",
    "\n",
    "    3. For each article found, provide:\n",
    "        - Title\n",
    "        - Source\n",
    "        - Publication date (MUST be between {start_date} and {end_date})\n",
    "        - A concise summary in 2-5 sentences\n",
    "        - The key influencer category it belongs to\n",
    "        - An analysis of its potential impact on Bitcoin price\n",
    "\n",
    "    Return each article ONLY in this exact structure without any extra explanation or additional text:\n",
    "    {{\n",
    "        \"influencer_category\": \"category_name\",\n",
    "        \"title\": \"article title\",\n",
    "        \"source\": \"source name\",\n",
    "        \"publication_date\": \"date\", \n",
    "        \"summary\": \"concise summary in 2-5 sentences\",\n",
    "        \"impact_analysis\": \"analysis of potential impact on Bitcoin price\"\n",
    "    }}\n",
    "\n",
    "\n",
    "    CRITICAL RULES:\n",
    "    1. Return ONLY the JSON object above\n",
    "    2. NO explanations, NO markdown, NO json blocks\n",
    "    3. NO additional text before or after the JSON\n",
    "    4. Publication date MUST be between {start_date} and {end_date}, DO NOT include any articles with dates outside this range\n",
    "    5. Verify each article's date before including it\n",
    "    6. Include as many relevant articles as possible\n",
    "    7. The news articles should not directly mention Bitcoin price equal to some dollar value\n",
    "    \"\"\"\n",
    "\n",
    "def retrieve_news(start_date: str, end_date: str) -> dict:\n",
    "    client = OpenAI(api_key=os.environ.get('OPENAI_API_KEY'))\n",
    "    \n",
    "    response = client.chat.completions.create(\n",
    "        model=\"gpt-4o-search-preview\", \n",
    "        messages=[\n",
    "            {\n",
    "                \"role\": \"user\",\n",
    "                \"content\": get_unified_prompt(start_date, end_date)\n",
    "            }\n",
    "        ]\n",
    "    )\n",
    "    is_truncated = response.choices[0].finish_reason == \"length\"\n",
    "    if is_truncated:\n",
    "        print(f\"The response is truncated for start date {start_date} and end date {end_date}\")\n",
    "    # Parse the response into JSON\n",
    "    try:\n",
    "        return json.loads(response.choices[0].message.content)\n",
    "    except json.JSONDecodeError:\n",
    "        # If JSON parsing fails, return the raw response\n",
    "        print(f\"Failed to parse JSON for one of the response for start date {start_date} and end date {end_date}\")\n",
    "        return response.choices[0].message.content\n",
    "\n"
   ]
  },
  {
   "cell_type": "code",
   "execution_count": 93,
   "metadata": {},
   "outputs": [
    {
     "name": "stdout",
     "output_type": "stream",
     "text": [
      "Failed to parse JSON for one of the response for start date 2018-01-01 and end date 2018-01-31\n",
      "{\"influencer_category\": \"Regulatory Changes\", \"title\": \"Bitcoin's January fall wipes off $44bn in value\", \"source\": \"The Guardian\", \"publication_date\": \"2018-02-01\", \"summary\": \"Bitcoin experienced a significant decline in January, losing over $44 billion in value. This drop was influenced by regulatory actions, including the Indian government's announcement to ban cryptocurrency trading and Facebook's decision to prohibit digital currency advertisements.\", \"impact_analysis\": \"The regulatory measures and advertising bans likely contributed to negative market sentiment, leading to a decrease in Bitcoin's price.\"}\n",
      "\n",
      "{\"influencer_category\": \"Regulatory Changes\", \"title\": \"Bitcoin value plunges 13% and falls below $9,000\", \"source\": \"CNN Money\", \"publication_date\": \"2018-02-01\", \"summary\": \"Bitcoin's price fell by 13%, dropping below $9,000. The decline followed the Indian finance minister's statement reiterating that cryptocurrencies are not legal tender and the government's intent to eliminate their use in illegitimate activities.\", \"impact_analysis\": \"The Indian government's stance likely heightened investor concerns about regulatory crackdowns, contributing to the decline in Bitcoin's price.\"}\n",
      "\n",
      "{\"influencer_category\": \"Regulatory Changes\", \"title\": \"Bitcoin Falls Below $10,000 for Second Time in January\", \"source\": \"Sputnik International\", \"publication_date\": \"2018-01-31\", \"summary\": \"Bitcoin's value dropped below $10,000 for the second time in January, losing about 10% over the last day's trading. The decline was attributed to concerns over regulatory actions in South Korea and China, as well as security issues in cryptocurrency exchanges.\", \"impact_analysis\": \"Regulatory uncertainties and security breaches likely undermined investor confidence, leading to a decrease in Bitcoin's price.\"}\n",
      "\n",
      "{\"influencer_category\": \"Regulatory Changes\", \"title\": \"Bitcoin price plummets to 11900 USD per BTC\", \"source\": \"Al Jazeera\", \"publication_date\": \"2018-01-18\", \"summary\": \"Bitcoin's price fell as much as 20%, dropping below $10,000. The decline was driven by investor fears that regulators in South Korea and China could ban cryptocurrency trading to curb speculation.\", \"impact_analysis\": \"Potential regulatory bans in major markets likely contributed to negative sentiment, resulting in a sharp decline in Bitcoin's price.\"}\n",
      "\n",
      "{\"influencer_category\": \"Regulatory Changes\", \"title\": \"Bitcoin price drop: Cryptocurrency plunges to lowest level since November\", \"source\": \"CNN Money\", \"publication_date\": \"2018-01-17\", \"summary\": \"Bitcoin's price dropped to its lowest level since November, amid concerns over regulatory actions in South Korea and China. Investors were cautious due to potential government crackdowns on cryptocurrency trading.\", \"impact_analysis\": \"Regulatory uncertainties in key markets likely led to decreased investor confidence, contributing to the decline in Bitcoin's price.\"}\n",
      "\n",
      "{\"influencer_category\": \"Regulatory Changes\", \"title\": \"Bitcoin plunges—now down 47 percent from December peak\", \"source\": \"Ars Technica\", \"publication_date\": \"2018-01-16\", \"summary\": \"Bitcoin's value plunged to $10,300, down 47% from its December peak. The decline was part of a broader cryptocurrency selloff, influenced by regulatory concerns and market volatility.\", \"impact_analysis\": \"Regulatory concerns and market volatility likely led to panic selling, resulting in a significant decrease in Bitcoin's price.\"}\n",
      "\n",
      "{\"influencer_category\": \"Regulatory Changes\", \"title\": \"Bitcoin Hits 2018 Low as Concerns Mount on Regulation, Viability\", \"source\": \"Bloomberg\", \"publication_date\": \"2018-02-01\", \"summary\": \"Bitcoin slumped as much as 15%, reaching its lowest value for the year. The decline was attributed to mounting concerns over increased regulation and the viability of the cryptocurrency.\", \"impact_analysis\": \"Increased regulatory scrutiny and questions about Bitcoin's viability likely contributed to negative market sentiment, leading to a decrease in its price.\"}\n",
      "\n",
      "{\"influencer_category\": \"Regulatory Changes\", \"title\": \"Here's Why Bitcoin Plunged 25% in January but Ethereum Soared\", \"source\": \"The Motley Fool\", \"publication_date\": \"2018-01-31\", \"summary\": \"Bitcoin's price declined by 25% in January, primarily due to fears of global regulatory scrutiny, particularly in South Korea. In contrast, Ethereum experienced gains due to increased network transaction volume.\", \"impact_analysis\": \"Regulatory fears likely led to decreased investor confidence in Bitcoin, contributing to its price decline.\"}\n",
      "\n",
      "{\"influencer_category\": \"Regulatory Changes\", \"title\": \"Bitcoin Sinks Below $10k on $133 Billion January Loss\", \"source\": \"CoinDesk\", \"publication_date\": \"2018-02-01\", \"summary\": \"Bitcoin's price dropped below $10,000, resulting in a $133 billion loss in market capitalization for January. The decline was influenced by regulatory concerns and market volatility.\", \"impact_analysis\": \"Regulatory concerns and market volatility likely led to decreased investor confidence, contributing to the significant loss in Bitcoin's market capitalization.\"} \n"
     ]
    }
   ],
   "source": [
    "print(retrieve_news(start_date='2018-01-01', end_date='2018-01-31'))"
   ]
  },
  {
   "cell_type": "code",
   "execution_count": null,
   "metadata": {},
   "outputs": [],
   "source": []
  }
 ],
 "metadata": {
  "kernelspec": {
   "display_name": ".venv",
   "language": "python",
   "name": "python3"
  },
  "language_info": {
   "codemirror_mode": {
    "name": "ipython",
    "version": 3
   },
   "file_extension": ".py",
   "mimetype": "text/x-python",
   "name": "python",
   "nbconvert_exporter": "python",
   "pygments_lexer": "ipython3",
   "version": "3.9.19"
  }
 },
 "nbformat": 4,
 "nbformat_minor": 2
}
