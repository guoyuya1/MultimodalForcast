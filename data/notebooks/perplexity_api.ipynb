{
 "cells": [
  {
   "cell_type": "code",
   "execution_count": 3,
   "metadata": {},
   "outputs": [],
   "source": [
    "from openai import OpenAI"
   ]
  },
  {
   "cell_type": "code",
   "execution_count": 5,
   "metadata": {},
   "outputs": [],
   "source": [
    "perplexity_api_key = \"xxxx\""
   ]
  },
  {
   "cell_type": "code",
   "execution_count": 7,
   "metadata": {},
   "outputs": [
    {
     "name": "stdout",
     "output_type": "stream",
     "text": [
      "ChatCompletion(id='1bf101da-75f0-4f7a-8317-a67d4d008858', choices=[Choice(finish_reason='stop', index=0, logprobs=None, message=ChatCompletionMessage(content=\"Based on the search results, the main five factors to forecast interest rates are:\\n\\n1. Inflation: The path of inflation significantly impacts interest rates. Higher inflation expectations tend to push rates up, while lower inflation allows for lower rates[1][11].\\n\\n2. Economic growth: The overall state of the economy and GDP growth influences interest rates. Stronger economic growth often leads to higher rates, while a potential downturn could cause rates to decrease[1][12].\\n\\n3. Federal Reserve policy: The Federal Reserve's monetary policy decisions, including setting the federal funds rate and quantitative easing/tightening measures, play a crucial role in determining interest rates across the economy[1][12].\\n\\n4. Government fiscal policy and debt: Large budget deficits and increased government debt issuance can put upward pressure on interest rates, especially for longer-term bonds[1][12].\\n\\n5. Market supply and demand: The balance between the supply of and demand for credit in the financial markets affects interest rates. Factors like investor sentiment, risk appetite, and global capital flows influence this supply-demand dynamic[1][8].\\n\\nThese factors interact with each other and their relative importance can vary over time, making interest rate forecasting a complex task that requires considering multiple economic and financial variables.\", refusal=None, role='assistant', annotations=None, audio=None, function_call=None, tool_calls=None), delta={'role': 'assistant', 'content': ''})], created=1742840860, model='sonar-pro', object='chat.completion', service_tier=None, system_fingerprint=None, usage=CompletionUsage(completion_tokens=249, prompt_tokens=35, total_tokens=284, completion_tokens_details=None, prompt_tokens_details=None, citation_tokens=11581, num_search_queries=1), citations=['https://www.investopedia.com/insights/forces-behind-interest-rates/', 'https://fiveable.me/lists/factors-affecting-interest-rates', 'https://www.thefundingfamily.com/blog/forces-that-cause-changes-in-interest-rates', 'http://www.econ2.jhu.edu/people/Duffee/handbookForecast.pdf', 'https://www.fanniemae.com/research-and-insights/publications/housing-insights/rate-30-year-mortgage', 'https://www.horizonfc.com/about/newsroom/26-factors-determining-your-interest-rate', 'https://www.bedelfinancial.com/factors-in-predicting-fed-rate-hikes', 'https://www.investopedia.com/trading/factors-influence-exchange-rates/', 'https://www.bankrate.com/personal-finance/interest-rates-forecast/', 'https://www.youtube.com/watch?v=EnrAWYan5ZQ', 'https://www.consumerfinance.gov/about-us/blog/7-factors-determine-your-mortgage-interest-rate/', 'https://www.cmegroup.com/insights/economic-research/2024/five-major-factors-that-can-swing-treasury-yields.html', 'https://www.usbank.com/investing/financial-perspectives/market-news/federal-reserve-interest-rate.html', 'https://libertystreeteconomics.newyorkfed.org/2016/07/forecasting-interest-rates-over-the-long-run/'])\n"
     ]
    }
   ],
   "source": [
    "messages = [\n",
    "    {\n",
    "        \"role\": \"system\",\n",
    "        \"content\": (\n",
    "            \"You are an artificial intelligence assistant and you need to \"\n",
    "            \"engage in a helpful, detailed, polite conversation with a user.\"\n",
    "        ),\n",
    "    },\n",
    "    {   \n",
    "        \"role\": \"user\",\n",
    "        \"content\": (\n",
    "            \"What are the main five factors to forcast interest rate?\"\n",
    "        ),\n",
    "    },\n",
    "]\n",
    "\n",
    "client = OpenAI(api_key=perplexity_api_key, base_url=\"https://api.perplexity.ai\")\n",
    "\n",
    "# chat completion without streaming\n",
    "response = client.chat.completions.create(\n",
    "    model=\"sonar-pro\",\n",
    "    messages=messages,\n",
    ")\n",
    "print(response)\n",
    "\n",
    "# chat completion with streaming\n",
    "# response_stream = client.chat.completions.create(\n",
    "#     model=\"sonar-pro\",\n",
    "#     messages=messages,\n",
    "#     stream=True,\n",
    "# )\n",
    "# for response in response_stream:\n",
    "#     print(response)"
   ]
  },
  {
   "cell_type": "code",
   "execution_count": 14,
   "metadata": {},
   "outputs": [
    {
     "name": "stdout",
     "output_type": "stream",
     "text": [
      "Based on the search results, the main five factors to forecast interest rates are:\n",
      "\n",
      "1. Inflation: The path of inflation significantly impacts interest rates. Higher inflation expectations tend to push rates up, while lower inflation allows for lower rates[1][11].\n",
      "\n",
      "2. Economic growth: The overall state of the economy and GDP growth influences interest rates. Stronger economic growth often leads to higher rates, while a potential downturn could cause rates to decrease[1][12].\n",
      "\n",
      "3. Federal Reserve policy: The Federal Reserve's monetary policy decisions, including setting the federal funds rate and quantitative easing/tightening measures, play a crucial role in determining interest rates across the economy[1][12].\n",
      "\n",
      "4. Government fiscal policy and debt: Large budget deficits and increased government debt issuance can put upward pressure on interest rates, especially for longer-term bonds[1][12].\n",
      "\n",
      "5. Market supply and demand: The balance between the supply of and demand for credit in the financial markets affects interest rates. Factors like investor sentiment, risk appetite, and global capital flows influence this supply-demand dynamic[1][8].\n",
      "\n",
      "These factors interact with each other and their relative importance can vary over time, making interest rate forecasting a complex task that requires considering multiple economic and financial variables.\n"
     ]
    }
   ],
   "source": [
    "print(response.choices[0].message.content)"
   ]
  },
  {
   "cell_type": "code",
   "execution_count": 18,
   "metadata": {},
   "outputs": [
    {
     "name": "stdout",
     "output_type": "stream",
     "text": [
      "['https://www.investopedia.com/insights/forces-behind-interest-rates/', 'https://fiveable.me/lists/factors-affecting-interest-rates', 'https://www.thefundingfamily.com/blog/forces-that-cause-changes-in-interest-rates', 'http://www.econ2.jhu.edu/people/Duffee/handbookForecast.pdf', 'https://www.fanniemae.com/research-and-insights/publications/housing-insights/rate-30-year-mortgage', 'https://www.horizonfc.com/about/newsroom/26-factors-determining-your-interest-rate', 'https://www.bedelfinancial.com/factors-in-predicting-fed-rate-hikes', 'https://www.investopedia.com/trading/factors-influence-exchange-rates/', 'https://www.bankrate.com/personal-finance/interest-rates-forecast/', 'https://www.youtube.com/watch?v=EnrAWYan5ZQ', 'https://www.consumerfinance.gov/about-us/blog/7-factors-determine-your-mortgage-interest-rate/', 'https://www.cmegroup.com/insights/economic-research/2024/five-major-factors-that-can-swing-treasury-yields.html', 'https://www.usbank.com/investing/financial-perspectives/market-news/federal-reserve-interest-rate.html', 'https://libertystreeteconomics.newyorkfed.org/2016/07/forecasting-interest-rates-over-the-long-run/']\n"
     ]
    }
   ],
   "source": [
    "print(response.citations)"
   ]
  },
  {
   "cell_type": "code",
   "execution_count": 19,
   "metadata": {},
   "outputs": [
    {
     "name": "stdout",
     "output_type": "stream",
     "text": [
      "14\n"
     ]
    }
   ],
   "source": [
    "print(len(response.citations))"
   ]
  },
  {
   "cell_type": "code",
   "execution_count": null,
   "metadata": {},
   "outputs": [],
   "source": []
  }
 ],
 "metadata": {
  "kernelspec": {
   "display_name": ".venv",
   "language": "python",
   "name": ".venv"
  },
  "language_info": {
   "codemirror_mode": {
    "name": "ipython",
    "version": 3
   },
   "file_extension": ".py",
   "mimetype": "text/x-python",
   "name": "python",
   "nbconvert_exporter": "python",
   "pygments_lexer": "ipython3",
   "version": "3.9.19"
  }
 },
 "nbformat": 4,
 "nbformat_minor": 2
}
