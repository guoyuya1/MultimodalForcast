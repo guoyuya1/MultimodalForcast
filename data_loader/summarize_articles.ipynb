{
 "cells": [
  {
   "cell_type": "code",
   "execution_count": 15,
   "metadata": {},
   "outputs": [],
   "source": [
    "from openai import OpenAI\n",
    "import json\n",
    "import os\n",
    "from tqdm import tqdm\n",
    "import math\n",
    "import glob\n",
    "import re\n",
    "from collections import defaultdict"
   ]
  },
  {
   "cell_type": "code",
   "execution_count": 5,
   "metadata": {},
   "outputs": [],
   "source": [
    "def get_summary_from_gpt4(article):\n",
    "    client = OpenAI(api_key=os.environ.get('OPENAI_API_KEY'))\n",
    "    response = client.chat.completions.create(\n",
    "                model=\"gpt-4o-mini\",\n",
    "                messages=[\n",
    "                    {\"role\": \"system\", \"content\": \"You are a helpful assistant that summarizes news articles. Provide a concise summary in 2-4 sentences.\"},\n",
    "                    {\"role\": \"user\", \"content\": f\"Please summarize this article: {article}\"}\n",
    "                ],\n",
    "                max_tokens=400,\n",
    "                temperature=0\n",
    "            )\n",
    "    return response.choices[0].message.content.strip()"
   ]
  },
  {
   "cell_type": "code",
   "execution_count": null,
   "metadata": {},
   "outputs": [
    {
     "name": "stdout",
     "output_type": "stream",
     "text": [
      "summarizing articles in chunk id: 4\n"
     ]
    },
    {
     "name": "stderr",
     "output_type": "stream",
     "text": [
      "100%|██████████| 1000/1000 [39:15<00:00,  2.36s/it]\n"
     ]
    },
    {
     "name": "stdout",
     "output_type": "stream",
     "text": [
      "Saved chunk 4 to ../data/bitcoin/bitcoin_news_with_summaries_chunk_4.json\n",
      "summarizing articles in chunk id: 5\n"
     ]
    },
    {
     "name": "stderr",
     "output_type": "stream",
     "text": [
      "100%|██████████| 827/827 [33:33<00:00,  2.43s/it]"
     ]
    },
    {
     "name": "stdout",
     "output_type": "stream",
     "text": [
      "Saved chunk 5 to ../data/bitcoin/bitcoin_news_with_summaries_chunk_5.json\n"
     ]
    },
    {
     "name": "stderr",
     "output_type": "stream",
     "text": [
      "\n"
     ]
    }
   ],
   "source": [
    "with open('../data/bitcoin/bitcoin_news.json', 'r', encoding='utf-8') as f:\n",
    "    news_data = json.load(f)\n",
    "\n",
    "chunk_size = 1000\n",
    "num_chunks = math.ceil(len(news_data) / chunk_size)\n",
    "\n",
    "for chunk_id in range(4,num_chunks):\n",
    "    start_idx = chunk_id * chunk_size\n",
    "    end_idx = min((chunk_id + 1) * chunk_size, len(news_data))\n",
    "    chunk_data = news_data[start_idx:end_idx]\n",
    "\n",
    "    print(f\"summarizing articles in chunk id: {chunk_id}\")\n",
    "    for article in tqdm(chunk_data):\n",
    "        summary = get_summary_from_gpt4(article['full_article'])\n",
    "        article['summary'] = summary\n",
    "\n",
    "    # Save chunk to separate file\n",
    "    chunk_filename = f'../data/bitcoin/bitcoin_news_with_summaries_chunk_{chunk_id}.json'\n",
    "    with open(chunk_filename, 'w', encoding='utf-8') as f:\n",
    "        json.dump(chunk_data, f, indent=4, ensure_ascii=False)\n",
    "    \n",
    "    print(f'Saved chunk {chunk_id} to {chunk_filename}')\n"
   ]
  },
  {
   "cell_type": "code",
   "execution_count": 13,
   "metadata": {},
   "outputs": [
    {
     "name": "stdout",
     "output_type": "stream",
     "text": [
      "Combined 6 chunks into 5827 articles.\n"
     ]
    }
   ],
   "source": [
    "# Path pattern for your chunk files\n",
    "chunk_files = sorted(glob.glob('../data/bitcoin/bitcoin_news_with_summaries_chunk_*.json'))\n",
    "\n",
    "all_articles = []\n",
    "\n",
    "for chunk_file in chunk_files:\n",
    "    with open(chunk_file, 'r', encoding='utf-8') as f:\n",
    "        chunk_data = json.load(f)\n",
    "        all_articles.extend(chunk_data)  # Add all articles from this chunk\n",
    "\n",
    "# Save the concatenated result\n",
    "with open('../data/bitcoin/bitcoin_news_with_summaries.json', 'w', encoding='utf-8') as f:\n",
    "    json.dump(all_articles, f, indent=4, ensure_ascii=False)\n",
    "\n",
    "print(f\"Combined {len(chunk_files)} chunks into {len(all_articles)} articles.\")\n"
   ]
  },
  {
   "cell_type": "code",
   "execution_count": 17,
   "metadata": {},
   "outputs": [
    {
     "name": "stderr",
     "output_type": "stream",
     "text": [
      "  0%|          | 2/1166 [00:01<10:35,  1.83it/s]"
     ]
    },
    {
     "name": "stdout",
     "output_type": "stream",
     "text": [
      "Could not parse GPT response for date 2018-01-02: I'm sorry, but none of the articles provided are relevant to forecasting the price of Bitcoin.\n"
     ]
    },
    {
     "name": "stderr",
     "output_type": "stream",
     "text": [
      "  5%|▍         | 55/1166 [00:26<09:31,  1.94it/s]"
     ]
    },
    {
     "name": "stdout",
     "output_type": "stream",
     "text": [
      "Could not parse GPT response for date 2018-03-05: None of the articles provided are directly related to Bitcoin or cryptocurrency markets. Therefore, none of them would be particularly useful for forecasting the price of Bitcoin.\n"
     ]
    },
    {
     "name": "stderr",
     "output_type": "stream",
     "text": [
      " 11%|█         | 131/1166 [01:06<07:50,  2.20it/s]"
     ]
    },
    {
     "name": "stdout",
     "output_type": "stream",
     "text": [
      "Could not parse GPT response for date 2018-05-29: I'm sorry, but none of the articles provided seem to be directly related to Bitcoin or its price forecasting. Could you please provide more relevant articles?\n"
     ]
    },
    {
     "name": "stderr",
     "output_type": "stream",
     "text": [
      " 12%|█▏        | 136/1166 [01:12<18:59,  1.11s/it]"
     ]
    },
    {
     "name": "stdout",
     "output_type": "stream",
     "text": [
      "Could not parse GPT response for date 2018-06-04: None of the articles provided are directly related to Bitcoin or cryptocurrency markets. Therefore, none of them would be particularly useful for forecasting the price of Bitcoin.\n"
     ]
    },
    {
     "name": "stderr",
     "output_type": "stream",
     "text": [
      " 12%|█▏        | 138/1166 [01:13<15:35,  1.10it/s]"
     ]
    },
    {
     "name": "stdout",
     "output_type": "stream",
     "text": [
      "Could not parse GPT response for date 2018-06-06: None of the articles provided are directly useful for forecasting the price of Bitcoin.\n"
     ]
    },
    {
     "name": "stderr",
     "output_type": "stream",
     "text": [
      " 21%|██        | 246/1166 [02:08<06:41,  2.29it/s]"
     ]
    },
    {
     "name": "stdout",
     "output_type": "stream",
     "text": [
      "Could not parse GPT response for date 2018-10-07: None of the articles provided contain information relevant to forecasting the price of Bitcoin.\n"
     ]
    },
    {
     "name": "stderr",
     "output_type": "stream",
     "text": [
      " 24%|██▍       | 279/1166 [02:23<06:17,  2.35it/s]"
     ]
    },
    {
     "name": "stdout",
     "output_type": "stream",
     "text": [
      "Could not parse GPT response for date 2018-11-12: None of the articles provided are directly related to Bitcoin or its market dynamics. Therefore, none of them would be useful for forecasting the price of Bitcoin.\n"
     ]
    },
    {
     "name": "stderr",
     "output_type": "stream",
     "text": [
      " 28%|██▊       | 332/1166 [02:50<08:58,  1.55it/s]"
     ]
    },
    {
     "name": "stdout",
     "output_type": "stream",
     "text": [
      "Could not parse GPT response for date 2019-01-07: None of the articles provided are directly related to Bitcoin or cryptocurrency markets. Therefore, none of them would be particularly useful for forecasting the price of Bitcoin.\n"
     ]
    },
    {
     "name": "stderr",
     "output_type": "stream",
     "text": [
      " 30%|██▉       | 348/1166 [02:58<07:44,  1.76it/s]"
     ]
    },
    {
     "name": "stdout",
     "output_type": "stream",
     "text": [
      "Could not parse GPT response for date 2019-01-23: None of the articles provided are directly relevant to forecasting the price of Bitcoin.\n"
     ]
    },
    {
     "name": "stderr",
     "output_type": "stream",
     "text": [
      " 35%|███▌      | 409/1166 [03:30<08:01,  1.57it/s]"
     ]
    },
    {
     "name": "stdout",
     "output_type": "stream",
     "text": [
      "Could not parse GPT response for date 2019-03-27: None of the articles provided are directly related to Bitcoin or cryptocurrency markets. Therefore, none of them would be particularly useful for forecasting the price of Bitcoin.\n"
     ]
    },
    {
     "name": "stderr",
     "output_type": "stream",
     "text": [
      " 35%|███▌      | 410/1166 [03:31<07:40,  1.64it/s]"
     ]
    },
    {
     "name": "stdout",
     "output_type": "stream",
     "text": [
      "Could not parse GPT response for date 2019-03-28: None of the articles provided are directly related to Bitcoin or cryptocurrency markets. Therefore, none of them would be particularly useful for forecasting the price of Bitcoin.\n"
     ]
    },
    {
     "name": "stderr",
     "output_type": "stream",
     "text": [
      " 36%|███▋      | 425/1166 [03:40<06:50,  1.81it/s]"
     ]
    },
    {
     "name": "stdout",
     "output_type": "stream",
     "text": [
      "Could not parse GPT response for date 2019-04-12: None of the articles provided are relevant to forecasting the price of Bitcoin.\n"
     ]
    },
    {
     "name": "stderr",
     "output_type": "stream",
     "text": [
      " 42%|████▏     | 488/1166 [04:20<05:10,  2.18it/s]"
     ]
    },
    {
     "name": "stdout",
     "output_type": "stream",
     "text": [
      "Could not parse GPT response for date 2019-06-19: None\n"
     ]
    },
    {
     "name": "stderr",
     "output_type": "stream",
     "text": [
      " 57%|█████▋    | 669/1166 [06:22<04:16,  1.93it/s]  "
     ]
    },
    {
     "name": "stdout",
     "output_type": "stream",
     "text": [
      "Could not parse GPT response for date 2019-12-29: None\n"
     ]
    },
    {
     "name": "stderr",
     "output_type": "stream",
     "text": [
      " 58%|█████▊    | 680/1166 [06:27<04:04,  1.99it/s]"
     ]
    },
    {
     "name": "stdout",
     "output_type": "stream",
     "text": [
      "Could not parse GPT response for date 2020-01-11: None of the articles provided are directly related to Bitcoin or cryptocurrency markets. Therefore, none of them would be particularly useful for forecasting the price of Bitcoin.\n"
     ]
    },
    {
     "name": "stderr",
     "output_type": "stream",
     "text": [
      " 65%|██████▌   | 762/1166 [07:15<03:28,  1.94it/s]"
     ]
    },
    {
     "name": "stdout",
     "output_type": "stream",
     "text": [
      "Could not parse GPT response for date 2020-04-06: None of the articles provided are directly useful for forecasting the price of Bitcoin.\n"
     ]
    },
    {
     "name": "stderr",
     "output_type": "stream",
     "text": [
      " 67%|██████▋   | 779/1166 [07:24<04:15,  1.51it/s]"
     ]
    },
    {
     "name": "stdout",
     "output_type": "stream",
     "text": [
      "Could not parse GPT response for date 2020-04-24: None of the articles provided are directly related to Bitcoin or the cryptocurrency market. Therefore, none of them would be particularly useful for forecasting the price of Bitcoin.\n"
     ]
    },
    {
     "name": "stderr",
     "output_type": "stream",
     "text": [
      " 74%|███████▍  | 863/1166 [08:05<02:49,  1.78it/s]"
     ]
    },
    {
     "name": "stdout",
     "output_type": "stream",
     "text": [
      "Could not parse GPT response for date 2020-07-23: None of the articles are directly useful for forecasting the price of Bitcoin, as they all focus on Bitcoin SV, which is a different cryptocurrency.\n"
     ]
    },
    {
     "name": "stderr",
     "output_type": "stream",
     "text": [
      " 75%|███████▌  | 879/1166 [08:14<02:27,  1.94it/s]"
     ]
    },
    {
     "name": "stdout",
     "output_type": "stream",
     "text": [
      "Could not parse GPT response for date 2020-08-10: None of the articles provided are directly related to Bitcoin or cryptocurrency markets. Therefore, none of them would be useful for forecasting the price of Bitcoin.\n"
     ]
    },
    {
     "name": "stderr",
     "output_type": "stream",
     "text": [
      " 76%|███████▌  | 883/1166 [08:17<03:51,  1.22it/s]"
     ]
    },
    {
     "name": "stdout",
     "output_type": "stream",
     "text": [
      "Could not parse GPT response for date 2020-08-14: I'm sorry, but none of the articles provided seem to be directly related to Bitcoin or its price forecasting. Could you please provide more relevant articles?\n"
     ]
    },
    {
     "name": "stderr",
     "output_type": "stream",
     "text": [
      " 91%|█████████ | 1063/1166 [09:46<00:48,  2.12it/s]"
     ]
    },
    {
     "name": "stdout",
     "output_type": "stream",
     "text": [
      "Could not parse GPT response for date 2021-02-22: I'm sorry, but none of the articles provided seem to be directly related to Bitcoin or its price forecasting. Could you please provide more relevant articles?\n"
     ]
    },
    {
     "name": "stderr",
     "output_type": "stream",
     "text": [
      " 95%|█████████▌| 1113/1166 [10:14<00:35,  1.48it/s]"
     ]
    },
    {
     "name": "stdout",
     "output_type": "stream",
     "text": [
      "Could not parse GPT response for date 2021-04-15: None of the articles provided are directly related to Bitcoin or cryptocurrency markets. Therefore, none of them would be particularly useful for forecasting the price of Bitcoin.\n"
     ]
    },
    {
     "name": "stderr",
     "output_type": "stream",
     "text": [
      "100%|█████████▉| 1163/1166 [10:38<00:01,  1.88it/s]"
     ]
    },
    {
     "name": "stdout",
     "output_type": "stream",
     "text": [
      "Could not parse GPT response for date 2021-12-05: None of the articles provided are relevant for forecasting the price of Bitcoin.\n"
     ]
    },
    {
     "name": "stderr",
     "output_type": "stream",
     "text": [
      "100%|██████████| 1166/1166 [10:40<00:00,  1.82it/s]"
     ]
    },
    {
     "name": "stdout",
     "output_type": "stream",
     "text": [
      "Selected 1143 articles (one per day).\n"
     ]
    },
    {
     "name": "stderr",
     "output_type": "stream",
     "text": [
      "\n"
     ]
    }
   ],
   "source": [
    "# Ask GPT to select one summary per day\n",
    "\n",
    "# Load all articles\n",
    "with open('../data/bitcoin/bitcoin_news_with_summaries.json', 'r', encoding='utf-8') as f:\n",
    "    all_articles = json.load(f)\n",
    "\n",
    "# Group articles by date\n",
    "articles_by_date = defaultdict(list)\n",
    "for article in all_articles:\n",
    "    date = article['publication_time'][:10]  # Extract YYYY-MM-DD\n",
    "    articles_by_date[date].append(article)\n",
    "\n",
    "client = OpenAI(api_key=os.environ.get('OPENAI_API_KEY'))\n",
    "\n",
    "selected_articles = []\n",
    "\n",
    "for date, articles in tqdm(articles_by_date.items()):\n",
    "    # Prepare a prompt with all summaries for the day\n",
    "    summaries = [\n",
    "        f\"Article {i+1}: {a.get('summary')}\"\n",
    "        for i, a in enumerate(articles)\n",
    "    ]\n",
    "    system_prompt = (\n",
    "        \"You are an expert in financial forecasting.\"\n",
    "        \"Given the following news article summaries for a single day,\"\n",
    "        \"select the one article that would be most useful for forecasting the price of Bitcoin.\"\n",
    "        \"Reply ONLY with the article number (e.g., 'Article 2').\"\n",
    "    )\n",
    "\n",
    "    user_prompt = \"\\n\\n\".join(summaries)\n",
    "\n",
    "    response = client.chat.completions.create(\n",
    "        model=\"gpt-4o\",\n",
    "        messages=[\n",
    "            {\"role\": \"system\", \"content\": system_prompt},\n",
    "            {\"role\": \"user\", \"content\": user_prompt}\n",
    "        ],\n",
    "        max_tokens=100,\n",
    "        temperature=0\n",
    "    )\n",
    "    answer = response.choices[0].message.content.strip()\n",
    "    # Extract the article number from the response\n",
    "    match = re.search(r'Article\\s*(\\d+)', answer)\n",
    "    if match:\n",
    "        idx = int(match.group(1)) - 1\n",
    "        if 0 <= idx < len(articles):\n",
    "            selected_articles.append(articles[idx])\n",
    "        else:\n",
    "            print(f\"Index out of range for date {date}: {answer}\")\n",
    "    else:\n",
    "        print(f\"Could not parse GPT response for date {date}: {answer}\")\n",
    "\n",
    "# Save the selected articles\n",
    "with open('../data/bitcoin/bitcoinprice_news_selected_one_per_day.json', 'w', encoding='utf-8') as f:\n",
    "    json.dump(selected_articles, f, indent=4, ensure_ascii=False)\n",
    "\n",
    "print(f\"Selected {len(selected_articles)} articles (one per day).\")"
   ]
  },
  {
   "cell_type": "code",
   "execution_count": null,
   "metadata": {},
   "outputs": [],
   "source": []
  }
 ],
 "metadata": {
  "kernelspec": {
   "display_name": ".venv",
   "language": "python",
   "name": "python3"
  },
  "language_info": {
   "codemirror_mode": {
    "name": "ipython",
    "version": 3
   },
   "file_extension": ".py",
   "mimetype": "text/x-python",
   "name": "python",
   "nbconvert_exporter": "python",
   "pygments_lexer": "ipython3",
   "version": "3.9.19"
  }
 },
 "nbformat": 4,
 "nbformat_minor": 2
}
