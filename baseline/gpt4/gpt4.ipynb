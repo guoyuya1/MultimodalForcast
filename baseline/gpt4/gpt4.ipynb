{
 "cells": [
  {
   "cell_type": "code",
   "execution_count": 14,
   "metadata": {},
   "outputs": [],
   "source": [
    "import sys\n",
    "sys.path.append('../../..') \n",
    "from openai import OpenAI\n",
    "from tqdm import tqdm\n",
    "import json\n",
    "import os\n",
    "import numpy as np\n",
    "from MultimodalForcast.data_loader.data_loader import process_bitcoin_data, split_series, TimeSeriesDataset, collate_fn"
   ]
  },
  {
   "cell_type": "code",
   "execution_count": 18,
   "metadata": {},
   "outputs": [],
   "source": [
    "def gpt4_forecast(prediction_window, system_prompt, user_prompt):\n",
    "    client = OpenAI(api_key=os.environ.get('OPENAI_API_KEY'))\n",
    "    response = client.chat.completions.create(\n",
    "        model=\"gpt-4o\",\n",
    "        messages=[\n",
    "            {\"role\": \"system\", \"content\": system_prompt},\n",
    "            {\"role\": \"user\", \"content\": user_prompt}\n",
    "        ],\n",
    "        max_tokens=64,\n",
    "        temperature=0.0,\n",
    "    )\n",
    "    forecast_text = response.choices[0].message.content.strip()\n",
    "    try:\n",
    "        forecast = [float(x) for x in forecast_text.split(\",\")]\n",
    "        # Ensure the forecast is the correct length\n",
    "        if len(forecast) != prediction_window:\n",
    "            forecast = forecast[:prediction_window] + [float('nan')] * (prediction_window - len(forecast))\n",
    "            print(\"forcast length does not match prediction window\")\n",
    "    except Exception:\n",
    "        forecast = [float('nan')] * prediction_window\n",
    "        print(\"forcast is in invalid format\")\n",
    "    return forecast"
   ]
  },
  {
   "cell_type": "code",
   "execution_count": 19,
   "metadata": {},
   "outputs": [
    {
     "name": "stdout",
     "output_type": "stream",
     "text": [
      "There are 1236 rows in the filtered bitcoin dataframe\n"
     ]
    }
   ],
   "source": [
    "\n",
    "# data parameters\n",
    "start_date = '2018-01-01'\n",
    "end_date = '2022-04-22'\n",
    "ts_file_path = '../../data/bitcoin/bitcoin_daily.csv'\n",
    "news_file_path = '../../data/bitcoin/bitcoin_news_with_summaries.json'\n",
    "text_col = 'summary'\n",
    "lookback = 15\n",
    "predict = 7\n",
    "batch_size= 16\n",
    "\n",
    "df_filtered = process_bitcoin_data(ts_file_path, news_file_path, start_date, end_date, text_col=text_col)\n",
    "train_data, val_data, test_data = split_series(df_filtered, lookback)\n",
    "val_dataset = TimeSeriesDataset(val_data, lookback, predict, text_col=text_col)\n",
    "val_loader = DataLoader(val_dataset, batch_size=batch_size, drop_last=False, collate_fn=collate_fn)"
   ]
  },
  {
   "cell_type": "code",
   "execution_count": 32,
   "metadata": {},
   "outputs": [
    {
     "name": "stderr",
     "output_type": "stream",
     "text": [
      "100%|██████████| 12/12 [06:14<00:00, 31.19s/it]"
     ]
    },
    {
     "name": "stdout",
     "output_type": "stream",
     "text": [
      "Validation RMSE: 513.5371\n",
      "Step 1 RMSE: 221.1346\n",
      "Step 2 RMSE: 338.7480\n",
      "Step 3 RMSE: 426.7504\n",
      "Step 4 RMSE: 500.8677\n",
      "Step 5 RMSE: 572.5100\n",
      "Step 6 RMSE: 641.5729\n",
      "Step 7 RMSE: 714.1596\n"
     ]
    },
    {
     "name": "stderr",
     "output_type": "stream",
     "text": [
      "\n"
     ]
    }
   ],
   "source": [
    "# Initialize lists to store predictions and targets\n",
    "all_preds = []\n",
    "all_targets = []\n",
    "\n",
    "# Define prompts\n",
    "system_prompt = (\n",
    "    \"You are an expert financial forecaster specializing in Bitcoin. \"\n",
    "    \"Given recent Bitcoin-related news (as a JSON list, each with a 'summary_i' field) and the last N days of Bitcoin prices, \"\n",
    "    \"your job is to predict the next M day(s) of Bitcoin price. \"\n",
    "    \"Reply ONLY with a comma-separated list of the forecasted Bitcoin prices.\"\n",
    ")\n",
    "\n",
    "# Loop through validation loader\n",
    "for batch in tqdm(val_loader):\n",
    "    texts = batch['text']  # list of lists of news summaries (per lookback day)\n",
    "    values = batch['value']  # tensor: (batch, lookback, features)\n",
    "    targets = batch['target']  # tensor: (batch, predict, features)\n",
    "    \n",
    "    # Process each sample in the batch\n",
    "    for i in range(len(texts)):\n",
    "        # Build news JSON list for this sample\n",
    "        news_json_list = []\n",
    "        for idx, summary in enumerate(texts[i]):\n",
    "            news_json_list.append({\n",
    "                f\"summary_{idx+1}\": summary\n",
    "            })\n",
    "        news_json = json.dumps(news_json_list, ensure_ascii=False)\n",
    "        lookback_values = values[i, :, 0].tolist()  # assuming 1D value\n",
    "        \n",
    "        # Create user prompt for this sample\n",
    "        user_prompt = (\n",
    "            f\"News (JSON): {news_json}\\n\"\n",
    "            f\"Recent Bitcoin prices: {lookback_values}\\n\"\n",
    "            f\"Forecast the next {predict} day(s) of Bitcoin price as a comma-separated list.\"\n",
    "        )\n",
    "        \n",
    "        # Get forecast from GPT-4 using your existing function\n",
    "        forecast = gpt4_forecast(predict, system_prompt, user_prompt)\n",
    "        \n",
    "        # Store predictions and targets\n",
    "        all_preds.append(forecast)\n",
    "        all_targets.append(targets[i, :, 0].tolist())\n",
    "\n",
    "# Convert to numpy arrays\n",
    "all_preds = np.array(all_preds)\n",
    "all_targets = np.array(all_targets)\n",
    "\n",
    "# Compute RMSE\n",
    "rmse = np.sqrt(np.nanmean((all_preds - all_targets) ** 2))\n",
    "print(f\"Validation RMSE: {rmse:.4f}\")\n",
    "\n",
    "# Optional: Print per-step RMSE\n",
    "for step in range(predict):\n",
    "    step_rmse = np.sqrt(np.nanmean((all_preds[:, step] - all_targets[:, step]) ** 2))\n",
    "    print(f\"Step {step+1} RMSE: {step_rmse:.4f}\")"
   ]
  },
  {
   "cell_type": "code",
   "execution_count": null,
   "metadata": {},
   "outputs": [],
   "source": []
  }
 ],
 "metadata": {
  "kernelspec": {
   "display_name": ".venv",
   "language": "python",
   "name": "python3"
  },
  "language_info": {
   "codemirror_mode": {
    "name": "ipython",
    "version": 3
   },
   "file_extension": ".py",
   "mimetype": "text/x-python",
   "name": "python",
   "nbconvert_exporter": "python",
   "pygments_lexer": "ipython3",
   "version": "3.9.19"
  }
 },
 "nbformat": 4,
 "nbformat_minor": 2
}
