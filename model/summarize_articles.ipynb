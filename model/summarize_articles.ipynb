{
 "cells": [
  {
   "cell_type": "code",
   "execution_count": 9,
   "metadata": {},
   "outputs": [],
   "source": [
    "from openai import OpenAI\n",
    "import json\n",
    "import os\n",
    "from tqdm import tqdm\n",
    "import math\n",
    "import glob"
   ]
  },
  {
   "cell_type": "code",
   "execution_count": 5,
   "metadata": {},
   "outputs": [],
   "source": [
    "def get_summary_from_gpt4(article):\n",
    "    client = OpenAI(api_key=os.environ.get('OPENAI_API_KEY'))\n",
    "    response = client.chat.completions.create(\n",
    "                model=\"gpt-4o-mini\",\n",
    "                messages=[\n",
    "                    {\"role\": \"system\", \"content\": \"You are a helpful assistant that summarizes news articles. Provide a concise summary in 2-4 sentences.\"},\n",
    "                    {\"role\": \"user\", \"content\": f\"Please summarize this article: {article}\"}\n",
    "                ],\n",
    "                max_tokens=400,\n",
    "                temperature=0\n",
    "            )\n",
    "    return response.choices[0].message.content.strip()"
   ]
  },
  {
   "cell_type": "code",
   "execution_count": null,
   "metadata": {},
   "outputs": [
    {
     "name": "stdout",
     "output_type": "stream",
     "text": [
      "summarizing articles in chunk id: 4\n"
     ]
    },
    {
     "name": "stderr",
     "output_type": "stream",
     "text": [
      "100%|██████████| 1000/1000 [39:15<00:00,  2.36s/it]\n"
     ]
    },
    {
     "name": "stdout",
     "output_type": "stream",
     "text": [
      "Saved chunk 4 to ../data/bitcoin/bitcoin_news_with_summaries_chunk_4.json\n",
      "summarizing articles in chunk id: 5\n"
     ]
    },
    {
     "name": "stderr",
     "output_type": "stream",
     "text": [
      "100%|██████████| 827/827 [33:33<00:00,  2.43s/it]"
     ]
    },
    {
     "name": "stdout",
     "output_type": "stream",
     "text": [
      "Saved chunk 5 to ../data/bitcoin/bitcoin_news_with_summaries_chunk_5.json\n"
     ]
    },
    {
     "name": "stderr",
     "output_type": "stream",
     "text": [
      "\n"
     ]
    }
   ],
   "source": [
    "with open('../data/bitcoin/bitcoin_news.json', 'r', encoding='utf-8') as f:\n",
    "    news_data = json.load(f)\n",
    "\n",
    "chunk_size = 1000\n",
    "num_chunks = math.ceil(len(news_data) / chunk_size)\n",
    "\n",
    "for chunk_id in range(4,num_chunks):\n",
    "    start_idx = chunk_id * chunk_size\n",
    "    end_idx = min((chunk_id + 1) * chunk_size, len(news_data))\n",
    "    chunk_data = news_data[start_idx:end_idx]\n",
    "\n",
    "    print(f\"summarizing articles in chunk id: {chunk_id}\")\n",
    "    for article in tqdm(chunk_data):\n",
    "        summary = get_summary_from_gpt4(article['full_article'])\n",
    "        article['summary'] = summary\n",
    "\n",
    "    # Save chunk to separate file\n",
    "    chunk_filename = f'../data/bitcoin/bitcoin_news_with_summaries_chunk_{chunk_id}.json'\n",
    "    with open(chunk_filename, 'w', encoding='utf-8') as f:\n",
    "        json.dump(chunk_data, f, indent=4, ensure_ascii=False)\n",
    "    \n",
    "    print(f'Saved chunk {chunk_id} to {chunk_filename}')\n"
   ]
  },
  {
   "cell_type": "code",
   "execution_count": 13,
   "metadata": {},
   "outputs": [
    {
     "name": "stdout",
     "output_type": "stream",
     "text": [
      "Combined 6 chunks into 5827 articles.\n"
     ]
    }
   ],
   "source": [
    "# Path pattern for your chunk files\n",
    "chunk_files = sorted(glob.glob('../data/bitcoin/bitcoin_news_with_summaries_chunk_*.json'))\n",
    "\n",
    "all_articles = []\n",
    "\n",
    "for chunk_file in chunk_files:\n",
    "    with open(chunk_file, 'r', encoding='utf-8') as f:\n",
    "        chunk_data = json.load(f)\n",
    "        all_articles.extend(chunk_data)  # Add all articles from this chunk\n",
    "\n",
    "# Save the concatenated result\n",
    "with open('../data/bitcoin/bitcoin_news_with_summaries.json', 'w', encoding='utf-8') as f:\n",
    "    json.dump(all_articles, f, indent=4, ensure_ascii=False)\n",
    "\n",
    "print(f\"Combined {len(chunk_files)} chunks into {len(all_articles)} articles.\")\n"
   ]
  },
  {
   "cell_type": "code",
   "execution_count": null,
   "metadata": {},
   "outputs": [],
   "source": []
  }
 ],
 "metadata": {
  "kernelspec": {
   "display_name": ".venv",
   "language": "python",
   "name": "python3"
  },
  "language_info": {
   "codemirror_mode": {
    "name": "ipython",
    "version": 3
   },
   "file_extension": ".py",
   "mimetype": "text/x-python",
   "name": "python",
   "nbconvert_exporter": "python",
   "pygments_lexer": "ipython3",
   "version": "3.9.19"
  }
 },
 "nbformat": 4,
 "nbformat_minor": 2
}
