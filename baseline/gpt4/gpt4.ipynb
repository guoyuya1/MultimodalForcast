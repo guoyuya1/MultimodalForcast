{
 "cells": [
  {
   "cell_type": "code",
   "execution_count": null,
   "metadata": {},
   "outputs": [],
   "source": [
    "from openai import OpenAI\n",
    "from tqdm import tqdm\n",
    "import json\n",
    "import os"
   ]
  },
  {
   "cell_type": "code",
   "execution_count": 5,
   "metadata": {},
   "outputs": [],
   "source": [
    "def gpt4o_forecast_bitcoin_price(news_json, lookback_values, prediction_window):\n",
    "    system_prompt = (\n",
    "        \"You are an expert financial forecaster specializing in Bitcoin. \"\n",
    "        \"Given recent Bitcoin-related news (as a JSON list) and the last N days of Bitcoin prices, \"\n",
    "        \"your job is to predict the next M day(s) of Bitcoin price. \"\n",
    "        \"Respond ONLY with a comma-separated list of the forecasted Bitcoin prices.\"\n",
    "    )\n",
    "    user_prompt = (\n",
    "        f\"News (JSON): {news_json}\\n\"\n",
    "        f\"Recent Bitcoin prices: {lookback_values}\\n\"\n",
    "        f\"Forecast the next {prediction_window} day(s) of Bitcoin price as a comma-separated list.\"\n",
    "    )\n",
    "    client = OpenAI(api_key=os.environ.get('OPENAI_API_KEY'))\n",
    "    response = client.chat.completions.create(\n",
    "        model=\"gpt-4o\",\n",
    "        messages=[\n",
    "            {\"role\": \"system\", \"content\": system_prompt},\n",
    "            {\"role\": \"user\", \"content\": user_prompt}\n",
    "        ],\n",
    "        max_tokens=32,\n",
    "        temperature=0.0,\n",
    "    )\n",
    "    forecast_text = response.choices[0].message.content.strip()\n",
    "    try:\n",
    "        forecast = [float(x) for x in forecast_text.split(\",\")]\n",
    "    except Exception:\n",
    "        forecast = [float('nan')] * prediction_window\n",
    "    return forecast"
   ]
  },
  {
   "cell_type": "code",
   "execution_count": null,
   "metadata": {},
   "outputs": [],
   "source": [
    "def run_gpt4o_baseline(val_loader, prediction_window, news_col='summary'):\n",
    "    all_preds = []\n",
    "    all_targets = []\n",
    "    for batch in tqdm(val_loader):\n",
    "        texts = batch['text']  # list of lists of news summaries (per lookback day)\n",
    "        values = batch['value']  # tensor: (batch, lookback, features)\n",
    "        targets = batch['target']  # tensor: (batch, prediction_window, features)\n",
    "        for i in range(len(texts)):\n",
    "            news_json_list = []\n",
    "            for summary in texts[i]:\n",
    "                news_json_list.append({\n",
    "                    \"summary\": summary\n",
    "                })\n",
    "            news_json = json.dumps(news_json_list, ensure_ascii=False)\n",
    "            lookback_values = values[i, :, 0].tolist()  # assuming 1D value\n",
    "            forecast = gpt4o_forecast_bitcoin_price(news_json, lookback_values, prediction_window)\n",
    "            all_preds.append(forecast)\n",
    "            all_targets.append(targets[i, :, 0].tolist())\n",
    "    return all_preds, all_targets"
   ]
  }
 ],
 "metadata": {
  "kernelspec": {
   "display_name": ".venv",
   "language": "python",
   "name": "python3"
  },
  "language_info": {
   "codemirror_mode": {
    "name": "ipython",
    "version": 3
   },
   "file_extension": ".py",
   "mimetype": "text/x-python",
   "name": "python",
   "nbconvert_exporter": "python",
   "pygments_lexer": "ipython3",
   "version": "3.10.12"
  }
 },
 "nbformat": 4,
 "nbformat_minor": 2
}
